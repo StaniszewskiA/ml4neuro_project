{
 "cells": [
  {
   "cell_type": "code",
   "execution_count": 1,
   "id": "670c9bc7-4dfe-4c0c-8a5d-3576cda3c2f5",
   "metadata": {},
   "outputs": [],
   "source": [
    "import pandas as pd\n",
    "import numpy as np\n",
    "import matplotlib.pyplot as plt"
   ]
  },
  {
   "cell_type": "markdown",
   "id": "878c6c94-9619-417b-88a5-9ab4696be645",
   "metadata": {},
   "source": [
    "## Import data\n",
    "\n",
    "1 - epilepsy\n",
    "0 - control"
   ]
  },
  {
   "cell_type": "code",
   "execution_count": 2,
   "id": "38ee7b50-614f-45c8-9b28-46c7965723db",
   "metadata": {},
   "outputs": [],
   "source": [
    "eeg_points = ['AF3', 'AF4', 'F3', 'F4', 'F7', 'F8', 'FC5', 'FC6', 'O1', 'O2', 'P7', 'P8', 'T7', 'T8']\n",
    "label_encoder = {'epilepsy' : 1, \"control\" : 0}\n",
    "\n",
    "signal_shapes = []\n",
    "length = 27776"
   ]
  },
  {
   "cell_type": "code",
   "execution_count": 3,
   "id": "c301f839-0f1d-4c9b-a7cf-fc67340b3e20",
   "metadata": {},
   "outputs": [],
   "source": [
    "# Guinea Bissau\n",
    "meta_gb = pd.read_csv(\"DATASET/metadata_guineabissau.csv\")"
   ]
  },
  {
   "cell_type": "code",
   "execution_count": 4,
   "id": "096a30f7-47ed-439a-91af-37dd51c5e306",
   "metadata": {},
   "outputs": [],
   "source": [
    "for el in meta_gb.iterrows():\n",
    "    subject_id = el[1]['subject.id']\n",
    "    label = label_encoder[el[1].Group.lower()]\n",
    "    signal = pd.read_csv(f\"DATASET/EEGs_Guinea-Bissau/signal-{subject_id}.csv\")\n",
    "    signal = signal[eeg_points]\n",
    "    if signal.shape[0] < 27000:\n",
    "        signal_shapes.append(signal.shape)"
   ]
  },
  {
   "cell_type": "code",
   "execution_count": 5,
   "id": "f42b22c0-f603-4dec-9848-e8ff5b31b3f1",
   "metadata": {},
   "outputs": [],
   "source": [
    "# Nigeria\n",
    "meta_nig = pd.read_csv(\"DATASET/metadata_nigeria.csv\")"
   ]
  },
  {
   "cell_type": "code",
   "execution_count": 6,
   "id": "7c93255a-3bb0-419a-b937-ceea436d3d97",
   "metadata": {},
   "outputs": [],
   "source": [
    "for _, el in meta_nig.iterrows():\n",
    "    subject_id = el['subject.id']\n",
    "    label = label_encoder[el.Group]\n",
    "    filename = el['csv.file'][:-3]\n",
    "    signal = pd.read_csv(f\"DATASET/EEGs_Nigeria/{filename}\")\n",
    "    signal = signal[eeg_points]\n",
    "    if signal.shape[0] > 27000:\n",
    "        signal_shapes.append(signal.shape)"
   ]
  },
  {
   "cell_type": "code",
   "execution_count": 7,
   "id": "66f85f14-cc3e-41e5-a3fe-a55d490bf994",
   "metadata": {},
   "outputs": [],
   "source": [
    "signal_shapes = np.array(signal_shapes)"
   ]
  },
  {
   "cell_type": "markdown",
   "id": "ee9bae9d-6d4d-4522-808b-ec9a07baa2e7",
   "metadata": {},
   "source": [
    "## Train data"
   ]
  },
  {
   "cell_type": "code",
   "execution_count": 20,
   "id": "0919b587-23c8-45bd-91e7-9ca1d1174e7f",
   "metadata": {},
   "outputs": [
    {
     "name": "stderr",
     "output_type": "stream",
     "text": [
      "usage: ipykernel_launcher.py [-h] [--timestep TIMESTEP] [--epochs EPOCHS]\n",
      "                             [--batch_size BATCH_SIZE] [--n_splits N_SPLITS]\n",
      "                             [--cache_dir CACHE_DIR] [--exp_name EXP_NAME]\n",
      "ipykernel_launcher.py: error: unrecognized arguments: --f=c:\\Users\\PanSt\\AppData\\Roaming\\jupyter\\runtime\\kernel-v3dbf1fe245397321e33c38c4728033b720130b480.json\n"
     ]
    },
    {
     "ename": "SystemExit",
     "evalue": "2",
     "output_type": "error",
     "traceback": [
      "An exception has occurred, use %tb to see the full traceback.\n",
      "\u001b[1;31mSystemExit\u001b[0m\u001b[1;31m:\u001b[0m 2\n"
     ]
    },
    {
     "name": "stderr",
     "output_type": "stream",
     "text": [
      "C:\\Users\\PanSt\\AppData\\Roaming\\Python\\Python311\\site-packages\\IPython\\core\\interactiveshell.py:3585: UserWarning: To exit: use 'exit', 'quit', or Ctrl-D.\n",
      "  warn(\"To exit: use 'exit', 'quit', or Ctrl-D.\", stacklevel=1)\n"
     ]
    }
   ],
   "source": [
    "from model import GATv2Lightning\n",
    "from train import train_model"
   ]
  },
  {
   "cell_type": "code",
   "execution_count": null,
   "id": "dc35b6d7",
   "metadata": {},
   "outputs": [],
   "source": [
    "import torch"
   ]
  },
  {
   "cell_type": "code",
   "execution_count": null,
   "id": "c2b193b0",
   "metadata": {},
   "outputs": [],
   "source": [
    "torch.is"
   ]
  }
 ],
 "metadata": {
  "kernelspec": {
   "display_name": "Python 3",
   "language": "python",
   "name": "python3"
  },
  "language_info": {
   "codemirror_mode": {
    "name": "ipython",
    "version": 3
   },
   "file_extension": ".py",
   "mimetype": "text/x-python",
   "name": "python",
   "nbconvert_exporter": "python",
   "pygments_lexer": "ipython3",
   "version": "3.11.4"
  }
 },
 "nbformat": 4,
 "nbformat_minor": 5
}
