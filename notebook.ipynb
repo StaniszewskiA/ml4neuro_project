{
 "cells": [
  {
   "cell_type": "code",
   "execution_count": 1,
   "id": "670c9bc7-4dfe-4c0c-8a5d-3576cda3c2f5",
   "metadata": {},
   "outputs": [],
   "source": [
    "import pandas as pd\n",
    "import numpy as np\n",
    "# import matplotlib.pyplot as plt"
   ]
  },
  {
   "cell_type": "markdown",
   "id": "878c6c94-9619-417b-88a5-9ab4696be645",
   "metadata": {},
   "source": [
    "## Import data\n",
    "\n",
    "1 - epilepsy\n",
    "0 - control"
   ]
  },
  {
   "cell_type": "code",
   "execution_count": 24,
   "id": "38ee7b50-614f-45c8-9b28-46c7965723db",
   "metadata": {},
   "outputs": [],
   "source": [
    "eeg_points: list[str] = ['AF3', 'AF4', 'F3', 'F4', 'F7', 'F8', 'FC5', 'FC6', 'O1', 'O2', 'P7', 'P8', 'T7', 'T8']\n",
    "label_encoder: dict[str, int] = {\n",
    "    'epilepsy' : 1, \n",
    "    \"control\" : 0\n",
    "}\n",
    "\n",
    "studies: list[pd.Series] = []"
   ]
  },
  {
   "cell_type": "code",
   "execution_count": 3,
   "id": "c301f839-0f1d-4c9b-a7cf-fc67340b3e20",
   "metadata": {},
   "outputs": [],
   "source": [
    "# Guinea Bissau\n",
    "meta_gb = pd.read_csv(\"DATASET/metadata_guineabissau.csv\")"
   ]
  },
  {
   "cell_type": "code",
   "execution_count": 12,
   "id": "b1a6726d",
   "metadata": {},
   "outputs": [],
   "source": [
    "def get_closed_eyes_signal(signal: pd.DataFrame) -> pd.DataFrame:\n",
    "    num_rows: int = len(signal)\n",
    "    return signal[int(3 * num_rows / 5):]"
   ]
  },
  {
   "cell_type": "code",
   "execution_count": 25,
   "id": "096a30f7-47ed-439a-91af-37dd51c5e306",
   "metadata": {},
   "outputs": [],
   "source": [
    "for row in meta_gb.iterrows():\n",
    "    subject_id = row[1]['subject.id']\n",
    "    label = label_encoder[row[1].Group.lower()]\n",
    "    signal = pd.read_csv(f\"DATASET/EEGs_Guinea-Bissau/signal-{subject_id}.csv\")\n",
    "    signal = signal[eeg_points]\n",
    "    \n",
    "    closed_eyes_signal = get_closed_eyes_signal(signal)\n",
    "\n",
    "    studies.append(closed_eyes_signal)"
   ]
  },
  {
   "cell_type": "code",
   "execution_count": 39,
   "id": "8861d5b3",
   "metadata": {},
   "outputs": [],
   "source": [
    "target = studies[0]\n",
    "target_df = pd.DataFrame(target)\n",
    "\n",
    "correlation_matrix = target_df.corr()"
   ]
  },
  {
   "cell_type": "code",
   "execution_count": 42,
   "id": "f42b22c0-f603-4dec-9848-e8ff5b31b3f1",
   "metadata": {},
   "outputs": [],
   "source": [
    "# Nigeria\n",
    "meta_nig = pd.read_csv(\"DATASET/metadata_nigeria.csv\")"
   ]
  },
  {
   "cell_type": "code",
   "execution_count": 43,
   "id": "7c93255a-3bb0-419a-b937-ceea436d3d97",
   "metadata": {},
   "outputs": [],
   "source": [
    "for _, row in meta_nig.iterrows():\n",
    "    subject_id = row['subject.id']\n",
    "    label = label_encoder[row.Group]\n",
    "    filename = row['csv.file'][:-3]\n",
    "    signal = pd.read_csv(f\"DATASET/EEGs_Nigeria/{filename}\")\n",
    "    signal = signal[eeg_points]\n",
    "    \n",
    "    closed_eyes_signal = get_closed_eyes_signal(signal)\n",
    "\n",
    "    studies.append(closed_eyes_signal)"
   ]
  },
  {
   "cell_type": "code",
   "execution_count": 45,
   "id": "065f98d7",
   "metadata": {},
   "outputs": [
    {
     "data": {
      "text/plain": [
       "318"
      ]
     },
     "execution_count": 45,
     "metadata": {},
     "output_type": "execute_result"
    }
   ],
   "source": [
    "len(studies)"
   ]
  },
  {
   "cell_type": "code",
   "execution_count": 46,
   "id": "bce1016b",
   "metadata": {},
   "outputs": [
    {
     "name": "stdout",
     "output_type": "stream",
     "text": [
      "<class 'pandas.core.frame.DataFrame'>\n"
     ]
    }
   ],
   "source": [
    "print(type(studies[0]))"
   ]
  },
  {
   "cell_type": "code",
   "execution_count": 50,
   "id": "f5038cd8",
   "metadata": {},
   "outputs": [
    {
     "ename": "IndentationError",
     "evalue": "expected an indented block after function definition on line 1 (1399594715.py, line 2)",
     "output_type": "error",
     "traceback": [
      "\u001b[1;36m  Cell \u001b[1;32mIn[50], line 2\u001b[1;36m\u001b[0m\n\u001b[1;33m    \u001b[0m\n\u001b[1;37m    ^\u001b[0m\n\u001b[1;31mIndentationError\u001b[0m\u001b[1;31m:\u001b[0m expected an indented block after function definition on line 1\n"
     ]
    }
   ],
   "source": [
    "for study in studies:\n",
    "    print(type(study))"
   ]
  },
  {
   "cell_type": "markdown",
   "id": "ee9bae9d-6d4d-4522-808b-ec9a07baa2e7",
   "metadata": {},
   "source": [
    "## Train data"
   ]
  },
  {
   "cell_type": "code",
   "execution_count": 8,
   "id": "0919b587-23c8-45bd-91e7-9ca1d1174e7f",
   "metadata": {},
   "outputs": [],
   "source": [
    "from models import GATv2Lightning\n",
    "from train import kfold_cval"
   ]
  },
  {
   "cell_type": "code",
   "execution_count": 9,
   "id": "dc35b6d7",
   "metadata": {},
   "outputs": [],
   "source": [
    "import torch"
   ]
  },
  {
   "cell_type": "code",
   "execution_count": null,
   "id": "30bf4f44",
   "metadata": {},
   "outputs": [],
   "source": [
    "print(torch.cuda.is_available())"
   ]
  },
  {
   "cell_type": "code",
   "execution_count": 11,
   "id": "1348dd24",
   "metadata": {},
   "outputs": [],
   "source": [
    "class Args:\n",
    "    timestep = 6\n",
    "    epochs = 25\n",
    "    batch_size = 256\n",
    "    n_splits = 5\n",
    "    cache_dir = \"data/cache\"\n",
    "    exp_name = \"eeg_exp\"\n",
    "\n",
    "args = Args()"
   ]
  },
  {
   "cell_type": "code",
   "execution_count": null,
   "id": "c2b193b0",
   "metadata": {},
   "outputs": [],
   "source": [
    "kfold_cval(signal_shapes, args)"
   ]
  }
 ],
 "metadata": {
  "kernelspec": {
   "display_name": "Python 3",
   "language": "python",
   "name": "python3"
  },
  "language_info": {
   "codemirror_mode": {
    "name": "ipython",
    "version": 3
   },
   "file_extension": ".py",
   "mimetype": "text/x-python",
   "name": "python",
   "nbconvert_exporter": "python",
   "pygments_lexer": "ipython3",
   "version": "3.10.0"
  }
 },
 "nbformat": 4,
 "nbformat_minor": 5
}
