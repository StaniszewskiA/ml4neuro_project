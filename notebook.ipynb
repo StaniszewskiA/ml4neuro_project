{
 "cells": [
  {
   "cell_type": "code",
   "execution_count": 7,
   "id": "670c9bc7-4dfe-4c0c-8a5d-3576cda3c2f5",
   "metadata": {},
   "outputs": [
    {
     "ename": "ModuleNotFoundError",
     "evalue": "No module named 'matpotlib'",
     "output_type": "error",
     "traceback": [
      "\u001b[0;31m---------------------------------------------------------------------------\u001b[0m",
      "\u001b[0;31mModuleNotFoundError\u001b[0m                       Traceback (most recent call last)",
      "Cell \u001b[0;32mIn[7], line 3\u001b[0m\n\u001b[1;32m      1\u001b[0m \u001b[38;5;28;01mimport\u001b[39;00m \u001b[38;5;21;01mpandas\u001b[39;00m \u001b[38;5;28;01mas\u001b[39;00m \u001b[38;5;21;01mpd\u001b[39;00m\n\u001b[1;32m      2\u001b[0m \u001b[38;5;28;01mimport\u001b[39;00m \u001b[38;5;21;01mnumpy\u001b[39;00m \u001b[38;5;28;01mas\u001b[39;00m \u001b[38;5;21;01mnp\u001b[39;00m\n\u001b[0;32m----> 3\u001b[0m \u001b[38;5;28;01mimport\u001b[39;00m \u001b[38;5;21;01mmatpotlib\u001b[39;00m\u001b[38;5;21;01m.\u001b[39;00m\u001b[38;5;21;01mpyplot\u001b[39;00m \u001b[38;5;28;01mas\u001b[39;00m \u001b[38;5;21;01mplt\u001b[39;00m\n",
      "\u001b[0;31mModuleNotFoundError\u001b[0m: No module named 'matpotlib'"
     ]
    }
   ],
   "source": [
    "import pandas as pd\n",
    "import numpy as np\n",
    "import matpotlib.pyplot as plt"
   ]
  },
  {
   "cell_type": "markdown",
   "id": "878c6c94-9619-417b-88a5-9ab4696be645",
   "metadata": {},
   "source": [
    "## Import data\n",
    "\n",
    "1 - epilepsy\n",
    "0 - control"
   ]
  },
  {
   "cell_type": "code",
   "execution_count": 41,
   "id": "38ee7b50-614f-45c8-9b28-46c7965723db",
   "metadata": {},
   "outputs": [],
   "source": [
    "eeg_points = ['AF3', 'AF4', 'F3', 'F4', 'F7', 'F8', 'FC5', 'FC6', 'O1', 'O2', 'P7', 'P8', 'T7', 'T8']\n",
    "label_encoder = {'epilepsy' : 1, \"control\" : 0}\n",
    "\n",
    "signal_shapes = []\n",
    "length = 27776"
   ]
  },
  {
   "cell_type": "code",
   "execution_count": 42,
   "id": "c301f839-0f1d-4c9b-a7cf-fc67340b3e20",
   "metadata": {},
   "outputs": [],
   "source": [
    "# Guinea Bissau\n",
    "meta_gb = pd.read_csv(\"DATASET/metadata_guineabissau.csv\")"
   ]
  },
  {
   "cell_type": "code",
   "execution_count": 43,
   "id": "096a30f7-47ed-439a-91af-37dd51c5e306",
   "metadata": {},
   "outputs": [],
   "source": [
    "for el in meta_gb.iterrows():\n",
    "    subject_id = el[1]['subject.id']\n",
    "    label = label_encoder[el[1].Group.lower()]\n",
    "    signal = pd.read_csv(f\"DATASET/EEGs_Guinea-Bissau/signal-{subject_id}.csv\")\n",
    "    signal = signal[eeg_points]\n",
    "    if signal.shape[0] < 27000:\n",
    "        signal_shapes.append(signal.shape)"
   ]
  },
  {
   "cell_type": "code",
   "execution_count": 44,
   "id": "f42b22c0-f603-4dec-9848-e8ff5b31b3f1",
   "metadata": {},
   "outputs": [],
   "source": [
    "# Nigeria\n",
    "meta_nig = pd.read_csv(\"DATASET/metadata_nigeria.csv\")"
   ]
  },
  {
   "cell_type": "code",
   "execution_count": 45,
   "id": "7c93255a-3bb0-419a-b937-ceea436d3d97",
   "metadata": {},
   "outputs": [],
   "source": [
    "for _, el in meta_nig.iterrows():\n",
    "    subject_id = el['subject.id']\n",
    "    label = label_encoder[el.Group]\n",
    "    filename = el['csv.file'][:-3]\n",
    "    signal = pd.read_csv(f\"DATASET/EEGs_Nigeria/{filename}\")\n",
    "    signal = signal[eeg_points]\n",
    "    if signal.shape[0] > 27000:\n",
    "        signal_shapes.append(signal.shape)"
   ]
  },
  {
   "cell_type": "code",
   "execution_count": 46,
   "id": "66f85f14-cc3e-41e5-a3fe-a55d490bf994",
   "metadata": {},
   "outputs": [],
   "source": [
    "signal_shapes = np.array(signal_shapes)"
   ]
  },
  {
   "cell_type": "markdown",
   "id": "ee9bae9d-6d4d-4522-808b-ec9a07baa2e7",
   "metadata": {},
   "source": [
    "## Train data"
   ]
  },
  {
   "cell_type": "code",
   "execution_count": null,
   "id": "0919b587-23c8-45bd-91e7-9ca1d1174e7f",
   "metadata": {},
   "outputs": [],
   "source": [
    "from model import GATv2Lightning\n",
    "from train import train_model"
   ]
  },
  {
   "cell_type": "code",
   "execution_count": null,
   "id": "b2145e67-c65d-4173-8472-bd5eca5f3526",
   "metadata": {},
   "outputs": [],
   "source": []
  },
  {
   "cell_type": "code",
   "execution_count": null,
   "id": "07f996d7-e99c-474f-95c4-d2118db18911",
   "metadata": {},
   "outputs": [],
   "source": []
  }
 ],
 "metadata": {
  "kernelspec": {
   "display_name": "Python 3 (ipykernel)",
   "language": "python",
   "name": "python3"
  },
  "language_info": {
   "codemirror_mode": {
    "name": "ipython",
    "version": 3
   },
   "file_extension": ".py",
   "mimetype": "text/x-python",
   "name": "python",
   "nbconvert_exporter": "python",
   "pygments_lexer": "ipython3",
   "version": "3.11.10"
  }
 },
 "nbformat": 4,
 "nbformat_minor": 5
}
