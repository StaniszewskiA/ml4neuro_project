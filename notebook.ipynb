{
 "cells": [
  {
   "cell_type": "code",
   "execution_count": 1,
   "id": "670c9bc7-4dfe-4c0c-8a5d-3576cda3c2f5",
   "metadata": {},
   "outputs": [],
   "source": [
    "import pandas as pd\n",
    "import numpy as np\n",
    "import matplotlib.pyplot as plt"
   ]
  },
  {
   "cell_type": "markdown",
   "id": "878c6c94-9619-417b-88a5-9ab4696be645",
   "metadata": {},
   "source": [
    "## Import data\n",
    "\n",
    "1 - epilepsy\n",
    "0 - control"
   ]
  },
  {
   "cell_type": "code",
   "execution_count": 2,
   "id": "38ee7b50-614f-45c8-9b28-46c7965723db",
   "metadata": {},
   "outputs": [],
   "source": [
    "eeg_points = ['AF3', 'AF4', 'F3', 'F4', 'F7', 'F8', 'FC5', 'FC6', 'O1', 'O2', 'P7', 'P8', 'T7', 'T8']\n",
    "label_encoder = {'epilepsy' : 1, \"control\" : 0}\n",
    "\n",
    "signal_shapes = []\n",
    "length = 27776"
   ]
  },
  {
   "cell_type": "code",
   "execution_count": 3,
   "id": "c301f839-0f1d-4c9b-a7cf-fc67340b3e20",
   "metadata": {},
   "outputs": [],
   "source": [
    "# Guinea Bissau\n",
    "meta_gb = pd.read_csv(\"DATASET/metadata_guineabissau.csv\")"
   ]
  },
  {
   "cell_type": "code",
   "execution_count": 4,
   "id": "096a30f7-47ed-439a-91af-37dd51c5e306",
   "metadata": {},
   "outputs": [],
   "source": [
    "for el in meta_gb.iterrows():\n",
    "    subject_id = el[1]['subject.id']\n",
    "    label = label_encoder[el[1].Group.lower()]\n",
    "    signal = pd.read_csv(f\"DATASET/EEGs_Guinea-Bissau/signal-{subject_id}.csv\")\n",
    "    signal = signal[eeg_points]\n",
    "    if signal.shape[0] < 27000:\n",
    "        signal_shapes.append(signal.shape)"
   ]
  },
  {
   "cell_type": "code",
   "execution_count": 5,
   "id": "f42b22c0-f603-4dec-9848-e8ff5b31b3f1",
   "metadata": {},
   "outputs": [],
   "source": [
    "# Nigeria\n",
    "meta_nig = pd.read_csv(\"DATASET/metadata_nigeria.csv\")"
   ]
  },
  {
   "cell_type": "code",
   "execution_count": 6,
   "id": "7c93255a-3bb0-419a-b937-ceea436d3d97",
   "metadata": {},
   "outputs": [],
   "source": [
    "for _, el in meta_nig.iterrows():\n",
    "    subject_id = el['subject.id']\n",
    "    label = label_encoder[el.Group]\n",
    "    filename = el['csv.file'][:-3]\n",
    "    signal = pd.read_csv(f\"DATASET/EEGs_Nigeria/{filename}\")\n",
    "    signal = signal[eeg_points]\n",
    "    if signal.shape[0] > 27000:\n",
    "        signal_shapes.append(signal.shape)"
   ]
  },
  {
   "cell_type": "code",
   "execution_count": 7,
   "id": "66f85f14-cc3e-41e5-a3fe-a55d490bf994",
   "metadata": {},
   "outputs": [],
   "source": [
    "signal_shapes = np.array(signal_shapes)"
   ]
  },
  {
   "cell_type": "code",
   "execution_count": 13,
   "id": "9fb2ac32",
   "metadata": {},
   "outputs": [
    {
     "data": {
      "text/plain": [
       "array([[34560,    14],\n",
       "       [34688,    14],\n",
       "       [34816,    14],\n",
       "       [35072,    14],\n",
       "       [34688,    14],\n",
       "       [34688,    14],\n",
       "       [34304,    14],\n",
       "       [34304,    14],\n",
       "       [34688,    14],\n",
       "       [34432,    14],\n",
       "       [34304,    14],\n",
       "       [34304,    14],\n",
       "       [34304,    14],\n",
       "       [34304,    14],\n",
       "       [34304,    14],\n",
       "       [34304,    14],\n",
       "       [34432,    14],\n",
       "       [34048,    14],\n",
       "       [34432,    14],\n",
       "       [34432,    14],\n",
       "       [34304,    14],\n",
       "       [34304,    14],\n",
       "       [34304,    14],\n",
       "       [34304,    14],\n",
       "       [34304,    14],\n",
       "       [34304,    14],\n",
       "       [32128,    14],\n",
       "       [34304,    14],\n",
       "       [34304,    14],\n",
       "       [34304,    14],\n",
       "       [34304,    14],\n",
       "       [34304,    14],\n",
       "       [34304,    14],\n",
       "       [33792,    14],\n",
       "       [34304,    14],\n",
       "       [34432,    14],\n",
       "       [34304,    14],\n",
       "       [34304,    14],\n",
       "       [34304,    14],\n",
       "       [31872,    14],\n",
       "       [34304,    14],\n",
       "       [34304,    14],\n",
       "       [34304,    14],\n",
       "       [34304,    14],\n",
       "       [34304,    14],\n",
       "       [34304,    14],\n",
       "       [34304,    14],\n",
       "       [34432,    14],\n",
       "       [34304,    14],\n",
       "       [34304,    14],\n",
       "       [34304,    14],\n",
       "       [41856,    14],\n",
       "       [34432,    14],\n",
       "       [34432,    14],\n",
       "       [34944,    14],\n",
       "       [34432,    14],\n",
       "       [34304,    14],\n",
       "       [34304,    14],\n",
       "       [34304,    14],\n",
       "       [34432,    14],\n",
       "       [34304,    14],\n",
       "       [34432,    14],\n",
       "       [34304,    14],\n",
       "       [34304,    14],\n",
       "       [34304,    14],\n",
       "       [34304,    14],\n",
       "       [34176,    14],\n",
       "       [34304,    14],\n",
       "       [34304,    14],\n",
       "       [34304,    14],\n",
       "       [34176,    14],\n",
       "       [34304,    14],\n",
       "       [34176,    14],\n",
       "       [34304,    14],\n",
       "       [34304,    14],\n",
       "       [34304,    14],\n",
       "       [34304,    14],\n",
       "       [34304,    14],\n",
       "       [34560,    14],\n",
       "       [34304,    14],\n",
       "       [34304,    14],\n",
       "       [34304,    14],\n",
       "       [34304,    14],\n",
       "       [34304,    14],\n",
       "       [34304,    14],\n",
       "       [34304,    14],\n",
       "       [34304,    14],\n",
       "       [34304,    14],\n",
       "       [34304,    14],\n",
       "       [34304,    14],\n",
       "       [32384,    14],\n",
       "       [34304,    14],\n",
       "       [34048,    14],\n",
       "       [34304,    14],\n",
       "       [34560,    14],\n",
       "       [37120,    14],\n",
       "       [34304,    14],\n",
       "       [34176,    14],\n",
       "       [34304,    14],\n",
       "       [38016,    14],\n",
       "       [34304,    14],\n",
       "       [34304,    14],\n",
       "       [33664,    14],\n",
       "       [28800,    14],\n",
       "       [34176,    14],\n",
       "       [34304,    14],\n",
       "       [34304,    14],\n",
       "       [34176,    14],\n",
       "       [34304,    14],\n",
       "       [34176,    14],\n",
       "       [34304,    14],\n",
       "       [34304,    14],\n",
       "       [34432,    14],\n",
       "       [34176,    14],\n",
       "       [34176,    14],\n",
       "       [34944,    14],\n",
       "       [34432,    14],\n",
       "       [34432,    14],\n",
       "       [34176,    14],\n",
       "       [34304,    14],\n",
       "       [35072,    14],\n",
       "       [34304,    14],\n",
       "       [34304,    14],\n",
       "       [34304,    14],\n",
       "       [34304,    14],\n",
       "       [34304,    14],\n",
       "       [27776,    14],\n",
       "       [34304,    14],\n",
       "       [34304,    14],\n",
       "       [34176,    14],\n",
       "       [34304,    14],\n",
       "       [34304,    14],\n",
       "       [34688,    14],\n",
       "       [34304,    14],\n",
       "       [34688,    14],\n",
       "       [34304,    14],\n",
       "       [34176,    14],\n",
       "       [34304,    14],\n",
       "       [34432,    14],\n",
       "       [34304,    14],\n",
       "       [34304,    14],\n",
       "       [34176,    14],\n",
       "       [34304,    14],\n",
       "       [34304,    14],\n",
       "       [34304,    14],\n",
       "       [34560,    14],\n",
       "       [40064,    14],\n",
       "       [34304,    14],\n",
       "       [34304,    14],\n",
       "       [34432,    14],\n",
       "       [34816,    14],\n",
       "       [30976,    14],\n",
       "       [34688,    14],\n",
       "       [32256,    14],\n",
       "       [34304,    14],\n",
       "       [34304,    14],\n",
       "       [33792,    14],\n",
       "       [34304,    14],\n",
       "       [34432,    14],\n",
       "       [34304,    14],\n",
       "       [32256,    14],\n",
       "       [34176,    14],\n",
       "       [34304,    14],\n",
       "       [34304,    14],\n",
       "       [34304,    14],\n",
       "       [34304,    14],\n",
       "       [34304,    14],\n",
       "       [34304,    14],\n",
       "       [38016,    14],\n",
       "       [34304,    14],\n",
       "       [34176,    14],\n",
       "       [34176,    14],\n",
       "       [34304,    14],\n",
       "       [34304,    14],\n",
       "       [34304,    14],\n",
       "       [34176,    14],\n",
       "       [34304,    14],\n",
       "       [34304,    14],\n",
       "       [34176,    14],\n",
       "       [34176,    14],\n",
       "       [34560,    14],\n",
       "       [34304,    14],\n",
       "       [34304,    14],\n",
       "       [34304,    14],\n",
       "       [34432,    14],\n",
       "       [34304,    14],\n",
       "       [34176,    14],\n",
       "       [34304,    14],\n",
       "       [34304,    14],\n",
       "       [34304,    14],\n",
       "       [34304,    14],\n",
       "       [34304,    14],\n",
       "       [34304,    14],\n",
       "       [34304,    14],\n",
       "       [31616,    14],\n",
       "       [34304,    14],\n",
       "       [34304,    14],\n",
       "       [34304,    14],\n",
       "       [34304,    14],\n",
       "       [34304,    14],\n",
       "       [34304,    14],\n",
       "       [34304,    14],\n",
       "       [34304,    14],\n",
       "       [34304,    14],\n",
       "       [34304,    14],\n",
       "       [34944,    14]])"
      ]
     },
     "execution_count": 13,
     "metadata": {},
     "output_type": "execute_result"
    }
   ],
   "source": [
    "signal_shapes"
   ]
  },
  {
   "cell_type": "markdown",
   "id": "ee9bae9d-6d4d-4522-808b-ec9a07baa2e7",
   "metadata": {},
   "source": [
    "## Train data"
   ]
  },
  {
   "cell_type": "code",
   "execution_count": 8,
   "id": "0919b587-23c8-45bd-91e7-9ca1d1174e7f",
   "metadata": {},
   "outputs": [],
   "source": [
    "from models import GATv2Lightning\n",
    "from train import kfold_cval"
   ]
  },
  {
   "cell_type": "code",
   "execution_count": 9,
   "id": "dc35b6d7",
   "metadata": {},
   "outputs": [],
   "source": [
    "import torch"
   ]
  },
  {
   "cell_type": "code",
   "execution_count": 10,
   "id": "30bf4f44",
   "metadata": {},
   "outputs": [
    {
     "name": "stdout",
     "output_type": "stream",
     "text": [
      "True\n"
     ]
    }
   ],
   "source": [
    "print(torch.cuda.is_available())"
   ]
  },
  {
   "cell_type": "code",
   "execution_count": 11,
   "id": "1348dd24",
   "metadata": {},
   "outputs": [],
   "source": [
    "class Args:\n",
    "    timestep = 6\n",
    "    epochs = 25\n",
    "    batch_size = 256\n",
    "    n_splits = 5\n",
    "    cache_dir = \"data/cache\"\n",
    "    exp_name = \"eeg_exp\"\n",
    "\n",
    "args = Args()"
   ]
  },
  {
   "cell_type": "code",
   "execution_count": 12,
   "id": "c2b193b0",
   "metadata": {},
   "outputs": [
    {
     "name": "stdout",
     "output_type": "stream",
     "text": [
      "cuda:0\n"
     ]
    },
    {
     "ename": "AttributeError",
     "evalue": "'numpy.ndarray' object has no attribute 'y'",
     "output_type": "error",
     "traceback": [
      "\u001b[1;31m---------------------------------------------------------------------------\u001b[0m",
      "\u001b[1;31mAttributeError\u001b[0m                            Traceback (most recent call last)",
      "Cell \u001b[1;32mIn[12], line 1\u001b[0m\n\u001b[1;32m----> 1\u001b[0m \u001b[43mkfold_cval\u001b[49m\u001b[43m(\u001b[49m\u001b[43msignal_shapes\u001b[49m\u001b[43m,\u001b[49m\u001b[43m \u001b[49m\u001b[43margs\u001b[49m\u001b[43m)\u001b[49m\n",
      "File \u001b[1;32mc:\\Users\\PanSt\\ml4neuro_project\\train.py:42\u001b[0m, in \u001b[0;36mkfold_cval\u001b[1;34m(full_dataset, args)\u001b[0m\n\u001b[0;32m     38\u001b[0m device \u001b[38;5;241m=\u001b[39m torch\u001b[38;5;241m.\u001b[39mdevice(\u001b[38;5;124m\"\u001b[39m\u001b[38;5;124mcuda:0\u001b[39m\u001b[38;5;124m\"\u001b[39m \u001b[38;5;28;01mif\u001b[39;00m torch\u001b[38;5;241m.\u001b[39mcuda\u001b[38;5;241m.\u001b[39mis_available() \u001b[38;5;28;01melse\u001b[39;00m \u001b[38;5;124m\"\u001b[39m\u001b[38;5;124mcpu\u001b[39m\u001b[38;5;124m\"\u001b[39m)\n\u001b[0;32m     39\u001b[0m \u001b[38;5;28mprint\u001b[39m(device)\n\u001b[0;32m     41\u001b[0m \u001b[38;5;28;01mfor\u001b[39;00m fold, (train_idx, test_idx) \u001b[38;5;129;01min\u001b[39;00m \u001b[38;5;28menumerate\u001b[39m(\n\u001b[1;32m---> 42\u001b[0m     kfold\u001b[38;5;241m.\u001b[39msplit(np\u001b[38;5;241m.\u001b[39mzeros(\u001b[38;5;28mlen\u001b[39m(full_dataset)), \u001b[43m[\u001b[49m\u001b[43mdata\u001b[49m\u001b[38;5;241;43m.\u001b[39;49m\u001b[43my\u001b[49m\u001b[43m \u001b[49m\u001b[38;5;28;43;01mfor\u001b[39;49;00m\u001b[43m \u001b[49m\u001b[43mdata\u001b[49m\u001b[43m \u001b[49m\u001b[38;5;129;43;01min\u001b[39;49;00m\u001b[43m \u001b[49m\u001b[43mfull_dataset\u001b[49m\u001b[43m]\u001b[49m)\n\u001b[0;32m     43\u001b[0m ):\n\u001b[0;32m     44\u001b[0m     \u001b[38;5;28mprint\u001b[39m(\u001b[38;5;124mf\u001b[39m\u001b[38;5;124m\"\u001b[39m\u001b[38;5;124mFold \u001b[39m\u001b[38;5;132;01m{\u001b[39;00mfold\u001b[38;5;132;01m}\u001b[39;00m\u001b[38;5;124m\"\u001b[39m)\n",
      "File \u001b[1;32mc:\\Users\\PanSt\\ml4neuro_project\\train.py:42\u001b[0m, in \u001b[0;36m<listcomp>\u001b[1;34m(.0)\u001b[0m\n\u001b[0;32m     38\u001b[0m device \u001b[38;5;241m=\u001b[39m torch\u001b[38;5;241m.\u001b[39mdevice(\u001b[38;5;124m\"\u001b[39m\u001b[38;5;124mcuda:0\u001b[39m\u001b[38;5;124m\"\u001b[39m \u001b[38;5;28;01mif\u001b[39;00m torch\u001b[38;5;241m.\u001b[39mcuda\u001b[38;5;241m.\u001b[39mis_available() \u001b[38;5;28;01melse\u001b[39;00m \u001b[38;5;124m\"\u001b[39m\u001b[38;5;124mcpu\u001b[39m\u001b[38;5;124m\"\u001b[39m)\n\u001b[0;32m     39\u001b[0m \u001b[38;5;28mprint\u001b[39m(device)\n\u001b[0;32m     41\u001b[0m \u001b[38;5;28;01mfor\u001b[39;00m fold, (train_idx, test_idx) \u001b[38;5;129;01min\u001b[39;00m \u001b[38;5;28menumerate\u001b[39m(\n\u001b[1;32m---> 42\u001b[0m     kfold\u001b[38;5;241m.\u001b[39msplit(np\u001b[38;5;241m.\u001b[39mzeros(\u001b[38;5;28mlen\u001b[39m(full_dataset)), [\u001b[43mdata\u001b[49m\u001b[38;5;241;43m.\u001b[39;49m\u001b[43my\u001b[49m \u001b[38;5;28;01mfor\u001b[39;00m data \u001b[38;5;129;01min\u001b[39;00m full_dataset])\n\u001b[0;32m     43\u001b[0m ):\n\u001b[0;32m     44\u001b[0m     \u001b[38;5;28mprint\u001b[39m(\u001b[38;5;124mf\u001b[39m\u001b[38;5;124m\"\u001b[39m\u001b[38;5;124mFold \u001b[39m\u001b[38;5;132;01m{\u001b[39;00mfold\u001b[38;5;132;01m}\u001b[39;00m\u001b[38;5;124m\"\u001b[39m)\n",
      "\u001b[1;31mAttributeError\u001b[0m: 'numpy.ndarray' object has no attribute 'y'"
     ]
    }
   ],
   "source": [
    "kfold_cval(signal_shapes, args)"
   ]
  }
 ],
 "metadata": {
  "kernelspec": {
   "display_name": "Python 3",
   "language": "python",
   "name": "python3"
  },
  "language_info": {
   "codemirror_mode": {
    "name": "ipython",
    "version": 3
   },
   "file_extension": ".py",
   "mimetype": "text/x-python",
   "name": "python",
   "nbconvert_exporter": "python",
   "pygments_lexer": "ipython3",
   "version": "3.11.4"
  }
 },
 "nbformat": 4,
 "nbformat_minor": 5
}
